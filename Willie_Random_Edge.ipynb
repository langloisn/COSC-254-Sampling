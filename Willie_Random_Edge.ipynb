{
 "cells": [
  {
   "cell_type": "code",
   "execution_count": 21,
   "metadata": {},
   "outputs": [],
   "source": [
    "import pandas as pd\n",
    "import random"
   ]
  },
  {
   "cell_type": "code",
   "execution_count": 10,
   "metadata": {},
   "outputs": [],
   "source": [
    "data = pd.read_csv(\"web-Stanford.txt\",\n",
    "                             sep=\"\\t\")"
   ]
  },
  {
   "cell_type": "code",
   "execution_count": 79,
   "metadata": {},
   "outputs": [],
   "source": [
    "bigDS = pd.DataFrame(columns = [\"FromNode\", \"ToNode\"])"
   ]
  },
  {
   "cell_type": "code",
   "execution_count": 66,
   "metadata": {},
   "outputs": [],
   "source": [
    "ListOfNodes = data[\"FromNode\"].unique()"
   ]
  },
  {
   "cell_type": "code",
   "execution_count": 81,
   "metadata": {},
   "outputs": [],
   "source": [
    "randomNodes = random.choices(list(data[\"FromNode\"].unique()), k = int(len(data)*.1))"
   ]
  },
  {
   "cell_type": "code",
   "execution_count": 82,
   "metadata": {},
   "outputs": [],
   "source": [
    "for i in randomNodes:\n",
    "    randomEdge = data[data.FromNode == i].sample()\n",
    "    bigDS = pd.concat([bigDS, randomEdge])"
   ]
  },
  {
   "cell_type": "code",
   "execution_count": 84,
   "metadata": {},
   "outputs": [],
   "source": [
    "tor = bigDS"
   ]
  },
  {
   "cell_type": "code",
   "execution_count": 85,
   "metadata": {},
   "outputs": [
    {
     "data": {
      "text/html": [
       "<div>\n",
       "<style scoped>\n",
       "    .dataframe tbody tr th:only-of-type {\n",
       "        vertical-align: middle;\n",
       "    }\n",
       "\n",
       "    .dataframe tbody tr th {\n",
       "        vertical-align: top;\n",
       "    }\n",
       "\n",
       "    .dataframe thead th {\n",
       "        text-align: right;\n",
       "    }\n",
       "</style>\n",
       "<table border=\"1\" class=\"dataframe\">\n",
       "  <thead>\n",
       "    <tr style=\"text-align: right;\">\n",
       "      <th></th>\n",
       "      <th>FromNode</th>\n",
       "      <th>ToNode</th>\n",
       "    </tr>\n",
       "  </thead>\n",
       "  <tbody>\n",
       "    <tr>\n",
       "      <td>1106494</td>\n",
       "      <td>38194</td>\n",
       "      <td>34573</td>\n",
       "    </tr>\n",
       "    <tr>\n",
       "      <td>917528</td>\n",
       "      <td>253227</td>\n",
       "      <td>183862</td>\n",
       "    </tr>\n",
       "    <tr>\n",
       "      <td>1735707</td>\n",
       "      <td>134268</td>\n",
       "      <td>265957</td>\n",
       "    </tr>\n",
       "    <tr>\n",
       "      <td>1189018</td>\n",
       "      <td>126750</td>\n",
       "      <td>43843</td>\n",
       "    </tr>\n",
       "    <tr>\n",
       "      <td>1951112</td>\n",
       "      <td>142185</td>\n",
       "      <td>215730</td>\n",
       "    </tr>\n",
       "    <tr>\n",
       "      <td>...</td>\n",
       "      <td>...</td>\n",
       "      <td>...</td>\n",
       "    </tr>\n",
       "    <tr>\n",
       "      <td>1881687</td>\n",
       "      <td>226897</td>\n",
       "      <td>261616</td>\n",
       "    </tr>\n",
       "    <tr>\n",
       "      <td>1456095</td>\n",
       "      <td>68300</td>\n",
       "      <td>222332</td>\n",
       "    </tr>\n",
       "    <tr>\n",
       "      <td>599113</td>\n",
       "      <td>60754</td>\n",
       "      <td>52796</td>\n",
       "    </tr>\n",
       "    <tr>\n",
       "      <td>310791</td>\n",
       "      <td>115140</td>\n",
       "      <td>259094</td>\n",
       "    </tr>\n",
       "    <tr>\n",
       "      <td>90700</td>\n",
       "      <td>23902</td>\n",
       "      <td>59682</td>\n",
       "    </tr>\n",
       "  </tbody>\n",
       "</table>\n",
       "<p>231249 rows × 2 columns</p>\n",
       "</div>"
      ],
      "text/plain": [
       "        FromNode  ToNode\n",
       "1106494    38194   34573\n",
       "917528    253227  183862\n",
       "1735707   134268  265957\n",
       "1189018   126750   43843\n",
       "1951112   142185  215730\n",
       "...          ...     ...\n",
       "1881687   226897  261616\n",
       "1456095    68300  222332\n",
       "599113     60754   52796\n",
       "310791    115140  259094\n",
       "90700      23902   59682\n",
       "\n",
       "[231249 rows x 2 columns]"
      ]
     },
     "execution_count": 85,
     "metadata": {},
     "output_type": "execute_result"
    }
   ],
   "source": [
    "tor"
   ]
  },
  {
   "cell_type": "code",
   "execution_count": null,
   "metadata": {},
   "outputs": [],
   "source": []
  }
 ],
 "metadata": {
  "kernelspec": {
   "display_name": "Python 3",
   "language": "python",
   "name": "python3"
  },
  "language_info": {
   "codemirror_mode": {
    "name": "ipython",
    "version": 3
   },
   "file_extension": ".py",
   "mimetype": "text/x-python",
   "name": "python",
   "nbconvert_exporter": "python",
   "pygments_lexer": "ipython3",
   "version": "3.7.3"
  }
 },
 "nbformat": 4,
 "nbformat_minor": 4
}
